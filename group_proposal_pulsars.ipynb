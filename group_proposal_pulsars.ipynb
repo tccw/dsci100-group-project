{
 "cells": [
  {
   "cell_type": "markdown",
   "metadata": {},
   "source": [
    "# DSCI 100: Group 20 Project Proposal"
   ]
  },
  {
   "cell_type": "markdown",
   "metadata": {},
   "source": [
    "**Date**: *July 30th, 2021*\n",
    "\n",
    "**Authors**: *Thomas Cowan, Marcela Flaherty, Tony Liang, Hamidreza Yarveicy*"
   ]
  },
  {
   "cell_type": "markdown",
   "metadata": {},
   "source": [
    "### Import necessary packages\n",
    "httr, ggplot2, and GGally were all available without installation on the DSCI 100 Jupyter Hub, but if errors occur, please install these packages."
   ]
  },
  {
   "cell_type": "code",
   "execution_count": null,
   "metadata": {},
   "outputs": [],
   "source": [
    "library(tidyverse)\n",
    "library(tidymodels)\n",
    "library(repr)\n",
    "library(httr)\n",
    "library(readxl)\n",
    "library(ggplot2)\n",
    "library(GGally)"
   ]
  },
  {
   "cell_type": "markdown",
   "metadata": {},
   "source": [
    "## Introduction\n",
    "\n",
    "Pulsars are defined as a type of Neutron stars that produce radio emissions distinguishable on Earth. Limited research has been conducted on the detection of pulsars with the use of data science methods. To advance the work of other researchers in studying pulsars (Simth,1977$^{[1]}$), we will attempt to answer the following question: \n",
    "\n",
    "> Can pulsar radio emissions be accurately differentiated from radio frequency interference and radio noise?\n",
    "\n",
    "To address this question properly, we will investigate a collection of radio emissions recorded during the [High Time Resolution Universe Pulsar Survey](https://archive.ics.uci.edu/ml/machine-learning-databases/00372/HTRU2.zip)$^{[2]}$ (HTRU2). It contains 16,259 spurious examples (i.e., radio interference or noise) and 1,639 real pulsar examples.\n",
    "\n",
    "The HTRU2 data set contains statistics on signal-to-noise ratios (SNR) and integrated profiles (a method of stacking multiple measurements of the same pulsar) of areas of The Southern Hemisphere. An artist's animation (top) of a radio profile from a pulsar, and a series of these profiles from a single star integrated together (bottom) is show below.\n",
    "\n",
    "\n",
    "<img src=\"./media/pulsar_animation_astronl.gif\" width=\"250\" align=\"center\">\n",
    "<img src=\"./media/pulse_stack.gif\" width=\"250\" align=\"center\">\n",
    "\n",
    "[Joeri van Leeuwen. License: CC-BY-AS](https://www.astron.nl/pulsars/animations/)\n",
    "\n",
    "[Essentials of Radio Astronomy](https://www.cv.nrao.edu/~sransom/web/Ch6.html)"
   ]
  },
  {
   "cell_type": "markdown",
   "metadata": {},
   "source": [
    "## Preliminary Exploratory Data Analysis"
   ]
  },
  {
   "cell_type": "markdown",
   "metadata": {},
   "source": [
    "#### Download Pulsar Data"
   ]
  },
  {
   "cell_type": "code",
   "execution_count": null,
   "metadata": {},
   "outputs": [],
   "source": [
    "# Download Pulsar data without kaggle helpers\n",
    "PULSAR_URL = \"https://archive.ics.uci.edu/ml/machine-learning-databases/00372/HTRU2.zip\"\n",
    "GET(PULSAR_URL, write_disk(tf <- tempfile(fileext = \".zip\")))\n",
    "\n",
    "# Unzip the tempfile and read the csv inside it, renaming the columns as below\n",
    "# then mutate the target class to a meaningful value for a human and convert to a factor\n",
    "pulsar_data_raw <- read_csv(unz(tf, \"HTRU_2.csv\"), col_names = c(\"mean_ip\", \n",
    "                                                             \"std_ip\", \n",
    "                                                             \"excess_kurtosis_ip\", \n",
    "                                                             \"skewness_ip\", \n",
    "                                                             \"mean_dm_snr\", \n",
    "                                                             \"std_dm_snr\", \n",
    "                                                             \"excess_kurtosis_dm_snr\", \n",
    "                                                             \"skewness_dm_snr\", \n",
    "                                                             \"target_class\")) %>% \n",
    "                 mutate(target_class = as_factor(case_when(\n",
    "                                                target_class == 1 ~ \"pulsar\",\n",
    "                                                TRUE ~ \"rf_noise\")))  \n",
    "# unlink/remove the temporary file\n",
    "unlink(tf)\n",
    "\n",
    "# preview the data\n",
    "pulsar_data_raw %>% head(5)"
   ]
  },
  {
   "cell_type": "markdown",
   "metadata": {},
   "source": [
    "### Raw data summary\n",
    "This data is already tidy.\n",
    "\n",
    "We have elected to use a high training proportion split of 80/20 train/test. This reasoning is discussed in the methods section. "
   ]
  },
  {
   "cell_type": "code",
   "execution_count": null,
   "metadata": {},
   "outputs": [],
   "source": [
    "set.seed(1) # set the random seed so that sample_frac selects the same rows each run\n",
    "pulsar_split <- initial_split(pulsar_data_raw, prop = 0.8, strata = target_class)\n",
    "pulsar_train <- training(pulsar_split)\n",
    "pulsar_test <- testing(pulsar_split)\n",
    "\n",
    "pulsar_data_split_label <- full_join(pulsar_train %>% mutate(is_training = TRUE), \n",
    "                                     pulsar_test %>% mutate(is_training = FALSE)\n",
    "                                    )\n",
    "pulsar_data_split_label %>% head(5)"
   ]
  },
  {
   "cell_type": "code",
   "execution_count": null,
   "metadata": {},
   "outputs": [],
   "source": [
    "options(repr.plot.width = 12, repr.plot.height = 8)\n",
    "training_bar_plot <- pulsar_data_split_label %>% \n",
    "                        ggplot(aes(x = target_class, fill = target_class)) + \n",
    "                            geom_bar() +\n",
    "                            labs(x = \"Target Classification\", \n",
    "                                 y = \"Count\",\n",
    "                                 fill = \"Target Classification\") +\n",
    "                            geom_text(stat='count', aes(label=..count..), vjust = -0.5, size=5) +\n",
    "                            ggtitle(\"Test/Training Split Counts\") +\n",
    "                            theme(text = element_text(size=20),\n",
    "                                  plot.title = element_text(hjust = 0.5)) +\n",
    "                        facet_wrap(~ is_training,\n",
    "                                   labeller = labeller(is_training = c(\"TRUE\" = \"Training\", \"FALSE\" = \"Testing\")))\n",
    "training_bar_plot"
   ]
  },
  {
   "cell_type": "markdown",
   "metadata": {},
   "source": [
    "#### Summary stats of the unscaled pulsar data\n",
    "The following table summarizes the max, min, mean, variance, and standard deviation, and number of NaNs for each predictor variable for the unscaled pulsar data."
   ]
  },
  {
   "cell_type": "code",
   "execution_count": null,
   "metadata": {},
   "outputs": [],
   "source": [
    "min_df <- pulsar_train %>% \n",
    "            select(-target_class) %>% \n",
    "            map_df(min)\n",
    "max_df <- pulsar_train %>%\n",
    "            select(-target_class) %>% \n",
    "            map_df(max)\n",
    "mean_df <- pulsar_train %>%\n",
    "            select(-target_class) %>% \n",
    "            map_df(mean)\n",
    "sd_df <- pulsar_train %>%\n",
    "            select(-target_class) %>% \n",
    "            map_df(sd)\n",
    "var_df <- pulsar_train %>%\n",
    "            select(-target_class) %>% \n",
    "            map_df(var)\n",
    "count_nan_df <- pulsar_train %>% \n",
    "                select(-target_class) %>% \n",
    "                map_df(~sum(is.na(.)))\n",
    "\n",
    "# get a vector of all the columns to join by\n",
    "join_cols = colnames(pulsar_train %>% select(-target_class))\n",
    "\n",
    "# join the stats tables together\n",
    "stats_table <- full_join(min_df, max_df, by=join_cols) %>% \n",
    "                full_join(., mean_df, by=join_cols) %>% \n",
    "                    full_join(., var_df, by=join_cols) %>% \n",
    "                        full_join(., sd_df, by=join_cols) %>%\n",
    "                            full_join(., count_nan_df, by=join_cols) %>%\n",
    "                mutate(stat_type = c(\"min\", \"max\", \"mean\", \"var\", \"st_dev\", \"nan_count\")) %>% \n",
    "                mutate(stat_type = as_factor(stat_type)) %>% \n",
    "                relocate(stat_type)\n",
    "\n",
    "print(\"Unscaled Training Data Statistics Summary\")\n",
    "stats_table"
   ]
  },
  {
   "cell_type": "markdown",
   "metadata": {},
   "source": [
    "#### Processing Recipe (used in scaled pair plots)"
   ]
  },
  {
   "cell_type": "code",
   "execution_count": null,
   "metadata": {},
   "outputs": [],
   "source": [
    "pulsar_recipe <- recipe(target_class ~ mean_ip + std_ip + excess_kurtosis_ip + skewness_ip + std_dm_snr, data = pulsar_train) %>% \n",
    "                    step_center(all_predictors()) %>% \n",
    "                    step_scale(all_predictors())\n",
    "\n",
    "# for visualizing excluded variables\n",
    "pulsar_recipe_all <- recipe(target_class ~ mean_ip + std_ip + excess_kurtosis_ip + skewness_ip +\n",
    "                                           mean_dm_snr + std_dm_snr + excess_kurtosis_dm_snr + skewness_dm_snr, \n",
    "                                           data = pulsar_train) %>% \n",
    "                    step_scale(all_predictors()) %>% \n",
    "                    step_center(all_predictors())\n",
    "\n",
    "pulsar_scaled <- pulsar_recipe %>% \n",
    "                    prep() %>% \n",
    "                    bake(pulsar_train)\n",
    "# for visualizing excluded variables\n",
    "pulsar_scaled_all <- pulsar_recipe_all %>% \n",
    "                    prep() %>% \n",
    "                    bake(pulsar_train)\n",
    "\n",
    "pulsar_scaled %>%  head(5)\n"
   ]
  },
  {
   "cell_type": "markdown",
   "metadata": {},
   "source": [
    "#### Exploratory Plotting\n",
    "The pair plot below highlights the relationships and distributions of the five chosen variables which will be used as predictors of the target class."
   ]
  },
  {
   "cell_type": "code",
   "execution_count": null,
   "metadata": {},
   "outputs": [],
   "source": [
    "options(repr.plot.width = 15, repr.plot.height = 15)\n",
    "\n",
    "# subset of the data for faster plotting\n",
    "pulsar_scaled_subset <- pulsar_scaled %>% sample_frac(0.2) \n",
    "\n",
    "ggpairs(pulsar_scaled_subset,\n",
    "           mapping = aes(color=target_class, alpha = 0.3),\n",
    "           lower=list(combo=wrap(\"facethist\", binwidth=0.5)),\n",
    "           upper=list(continuous = wrap(\"cor\", size=5))) +\n",
    "        ggtitle(\"Scaled Pulsar Data Pair Plot (Select Variables)\") +\n",
    "        theme(text = element_text(size = 22),\n",
    "              plot.title = element_text(hjust = 0.5))\n",
    "        "
   ]
  },
  {
   "cell_type": "markdown",
   "metadata": {},
   "source": [
    "# Methods \n",
    "\n",
    "This is a classification problem, and we will make use of a KNN model for our predictions, tuned using the v-fold cross-validation methods we learned in worksheet 7.\n",
    "\n",
    "The HTRU2 data set has several thousand entries (17,898), and there is considerable overlap between pulsars and radio noise in many of the provided variables. 80% of our data will be reserved for training, as we believe our model will require a significant proportion of our data to distinguish between classes in these overlapping zones.\n",
    "\n",
    "We will exclude \"mean_dm_snr\", \"excess_kurtosis_dm_snr\", and \"skewness_dm_snr\" from our model as these variables do not provide good separation when plotted against the other available data Plots of two of these exluded variables are below. \n",
    "\n",
    "Among other plots, we will use scatter plots colored by correct/incorrect predictions to visualize the areas the model struggles. We will also focus on colorblind-friendly palettes. \n"
   ]
  },
  {
   "cell_type": "code",
   "execution_count": null,
   "metadata": {},
   "outputs": [],
   "source": [
    "# generate the pairs plot for all variables\n",
    "pairs_plot <- ggpairs(pulsar_scaled_all %>% sample_frac(0.05),\n",
    "                   legend = 1,\n",
    "                   mapping = aes(color=target_class,  alpha=0.5),\n",
    "                   lower=list(combo=wrap(\"facethist\", binwidth=0.5),\n",
    "                             discrete = \"blank\", combo=\"blank\"),\n",
    "                   upper=list(continuous = wrap(\"cor\", size=5, alignPercent=0.85))) +\n",
    "                ggtitle(\"Scaled Pulsar Data Pair Plot All: Pulsars (Blue), Radio Noise (Red)\") +\n",
    "                theme(text = element_text(size = 17),\n",
    "                      plot.title = element_text(hjust = 0.5),\n",
    "                      legend.position = \"bottom\",\n",
    "                      panel.grid.major = element_blank())\n",
    "\n",
    "skewness_dm_snr_plots <- lapply(1:pairs_plot$ncol, function(j) getPlot(pairs_plot, i = 8, j = j))\n",
    "excess_kurtosis_dm_snr_plots <- lapply(1:pairs_plot$ncol, function(j) getPlot(pairs_plot, i = 7, j = j))\n",
    "\n",
    "# set unwanted elements to NULL\n",
    "skewness_dm_snr_plots[9] <- NULL \n",
    "excess_kurtosis_dm_snr_plots[8:9] <- NULL\n",
    "\n",
    "# Plot the two unused variables excess_kurtosis_dm_snr, skewness_dm_snr\n",
    "options(repr.plot.width = 18, repr.plot.height = 3)\n",
    "ggmatrix(\n",
    "    excess_kurtosis_dm_snr_plots,\n",
    "    nrow=1,\n",
    "    ncol = pairs_plot$ncol,\n",
    "    xAxisLabels = pairs_plot$xAxisLabels[1:7],\n",
    "    yAxisLabels = pairs_plot$yAxisLabels[7],\n",
    "    title = \"Two Excluded Predictors for Our Study\"\n",
    ")\n",
    "options(repr.plot.width = 21, repr.plot.height = 3)\n",
    "ggmatrix(\n",
    "    skewness_dm_snr_plots,\n",
    "    nrow=1,\n",
    "    ncol = pairs_plot$ncol,\n",
    "    xAxisLabels = pairs_plot$xAxisLabels[1:8],\n",
    "    yAxisLabels = pairs_plot$yAxisLabels[8]\n",
    ")\n"
   ]
  },
  {
   "cell_type": "markdown",
   "metadata": {},
   "source": [
    "# Expectated Outcomes and Significance\n",
    "We expect to be able to distinguish between a pulsar star and all other observed stars using statistical predictors.\n",
    "\n",
    "### Impact of Findings\n",
    "Pulsars allow us to study extreme states of matter, investigate beyond our solar system, and measure interstellar distances$^{[3]}$. Information gleaned from studying pulsars has broad applicability, and rapid, efficient, and accurate delineation of the pulsar start/radio noise boundary is scientifically significant.\n",
    "\n",
    "### Future Questions\n",
    "One of the most significant impacts of pulsar analysis is the study of space-time, this is because of the pulse, or blinking, that occurs with a pulsar. Through this natural clock, we can use pulsars when asking questions about distance and time between objects in space$^{[4]}$.\n"
   ]
  },
  {
   "cell_type": "markdown",
   "metadata": {},
   "source": [
    "# Citations\n",
    "$^{[1]}$Smith, F. G. (1977). Pulsars. *Cambridge Monographs on Physics*\n",
    "\n",
    "$^{[2]}$R. J. Lyon, B. W. Stappers, S. Cooper, J. M. Brooke, J. D. Knowles, *Fifty Years of Pulsar\n",
    "\t\tCandidate Selection: From simple filters to a new principled real-time classification approach\n",
    "\t\tMNRAS*, 2016.\n",
    "\n",
    "$^{[3]}$Cofield, C. (2016, April 22). *What are pulsars?* Space.com. https://www.space.com/32661-pulsars.html.*\n",
    "\n",
    "$^{[4]}$NASA. (2011, January). *Pulsars*. NASA. https://imagine.gsfc.nasa.gov/science/objects/pulsars2.html.old."
   ]
  }
 ],
 "metadata": {
  "kernelspec": {
   "display_name": "R",
   "language": "R",
   "name": "ir"
  },
  "language_info": {
   "codemirror_mode": "r",
   "file_extension": ".r",
   "mimetype": "text/x-r-source",
   "name": "R",
   "pygments_lexer": "r",
   "version": "4.0.0"
  }
 },
 "nbformat": 4,
 "nbformat_minor": 4
}
