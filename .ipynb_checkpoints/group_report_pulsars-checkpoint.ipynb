{
 "cells": [
  {
   "cell_type": "markdown",
   "metadata": {},
   "source": [
    "# DSCI 100: Group 20 Project Proposal"
   ]
  },
  {
   "cell_type": "markdown",
   "metadata": {},
   "source": [
    "**Date**: *July 30th, 2021*\n",
    "\n",
    "**Authors**: *Thomas Cowan, Marcela Flaherty, Tony Liang, Hamidreza Yarveicy*"
   ]
  },
  {
   "cell_type": "markdown",
   "metadata": {},
   "source": [
    "### Import necessary packages"
   ]
  },
  {
   "cell_type": "code",
   "execution_count": 43,
   "metadata": {},
   "outputs": [],
   "source": [
    "# httr, ggplot2, and GGally were all available without installation on the DSCI 100 Jupyter Hub, but if errors occur, please install these packages.\n",
    "library(tidyverse)\n",
    "library(tidymodels)\n",
    "library(repr)\n",
    "library(httr)\n",
    "library(readxl)\n",
    "library(ggplot2)\n",
    "library(GGally)"
   ]
  },
  {
   "cell_type": "markdown",
   "metadata": {},
   "source": [
    "## Introduction\n",
    "\n",
    "Pulsars are a type of dense, highly magnetized star that emits periodic radio bursts from its rotational poles$^{[1]}$. Limited research has been conducted on the detection of pulsars with the use of data science methods. We will attempt to answer the following question: \n",
    "\n",
    "> Can pulsar radio emissions be accurately differentiated from radio frequency interference (RFI) and radio noise?\n",
    "\n",
    "To address this question properly, we will investigate a collection of radio emissions recorded during the [High Time Resolution Universe Pulsar Survey](https://archive.ics.uci.edu/ml/machine-learning-databases/00372/HTRU2.zip)$^{[2]}$ (HTRU2). It contains 16,259 examples caused by RFI/noise and 1,639 real pulsars.\n",
    "\n",
    "The HTRU2 data set contains statistics on signal-to-noise ratios (SNR) and integrated profiles (a method of stacking multiple measurements of the same pulsar) of areas of The Southern Hemisphere. An artist's animation (top) of a radio profile from a pulsar, and a series of these profiles from a single star integrated together (bottom) is shown below.\n",
    "\n",
    "![image](https://i.imgur.com/JpWpvRr.gif)\n",
    "\n",
    "![image](https://i.imgur.com/JLhFw1A.gif)\n",
    "\n",
    "\n",
    "[Joeri van Leeuwen. License: CC-BY-AS](https://www.astron.nl/pulsars/animations/)\n",
    "\n",
    "[Essentials of Radio Astronomy](https://www.cv.nrao.edu/~sransom/web/Ch6.html)"
   ]
  },
  {
   "cell_type": "markdown",
   "metadata": {},
   "source": [
    "## Preliminary Exploratory Data Analysis"
   ]
  },
  {
   "cell_type": "markdown",
   "metadata": {},
   "source": [
    "#### Download Pulsar Data"
   ]
  },
  {
   "cell_type": "code",
   "execution_count": 44,
   "metadata": {},
   "outputs": [
    {
     "data": {
      "text/plain": [
       "Response [https://archive.ics.uci.edu/ml/machine-learning-databases/00372/HTRU2.zip]\n",
       "  Date: 2021-08-11 21:01\n",
       "  Status: 200\n",
       "  Content-Type: application/x-httpd-php\n",
       "  Size: 1.56 MB\n",
       "<ON DISK>  /tmp/RtmpgtNbb8/file696ffce344.zipNULL"
      ]
     },
     "metadata": {},
     "output_type": "display_data"
    },
    {
     "name": "stderr",
     "output_type": "stream",
     "text": [
      "Parsed with column specification:\n",
      "cols(\n",
      "  mean_ip = \u001b[32mcol_double()\u001b[39m,\n",
      "  std_ip = \u001b[32mcol_double()\u001b[39m,\n",
      "  excess_kurtosis_ip = \u001b[32mcol_double()\u001b[39m,\n",
      "  skewness_ip = \u001b[32mcol_double()\u001b[39m,\n",
      "  mean_dm_snr = \u001b[32mcol_double()\u001b[39m,\n",
      "  std_dm_snr = \u001b[32mcol_double()\u001b[39m,\n",
      "  excess_kurtosis_dm_snr = \u001b[32mcol_double()\u001b[39m,\n",
      "  skewness_dm_snr = \u001b[32mcol_double()\u001b[39m,\n",
      "  target_class = \u001b[32mcol_double()\u001b[39m\n",
      ")\n",
      "\n"
     ]
    },
    {
     "data": {
      "text/html": [
       "<table>\n",
       "<caption>A tibble: 5 × 9</caption>\n",
       "<thead>\n",
       "\t<tr><th scope=col>mean_ip</th><th scope=col>std_ip</th><th scope=col>excess_kurtosis_ip</th><th scope=col>skewness_ip</th><th scope=col>mean_dm_snr</th><th scope=col>std_dm_snr</th><th scope=col>excess_kurtosis_dm_snr</th><th scope=col>skewness_dm_snr</th><th scope=col>target_class</th></tr>\n",
       "\t<tr><th scope=col>&lt;dbl&gt;</th><th scope=col>&lt;dbl&gt;</th><th scope=col>&lt;dbl&gt;</th><th scope=col>&lt;dbl&gt;</th><th scope=col>&lt;dbl&gt;</th><th scope=col>&lt;dbl&gt;</th><th scope=col>&lt;dbl&gt;</th><th scope=col>&lt;dbl&gt;</th><th scope=col>&lt;fct&gt;</th></tr>\n",
       "</thead>\n",
       "<tbody>\n",
       "\t<tr><td>140.56250</td><td>55.68378</td><td>-0.23457141</td><td>-0.6996484</td><td>3.199833</td><td>19.11043</td><td> 7.975532</td><td> 74.24222</td><td>rfi_noise</td></tr>\n",
       "\t<tr><td>102.50781</td><td>58.88243</td><td> 0.46531815</td><td>-0.5150879</td><td>1.677258</td><td>14.86015</td><td>10.576487</td><td>127.39358</td><td>rfi_noise</td></tr>\n",
       "\t<tr><td>103.01562</td><td>39.34165</td><td> 0.32332837</td><td> 1.0511644</td><td>3.121237</td><td>21.74467</td><td> 7.735822</td><td> 63.17191</td><td>rfi_noise</td></tr>\n",
       "\t<tr><td>136.75000</td><td>57.17845</td><td>-0.06841464</td><td>-0.6362384</td><td>3.642977</td><td>20.95928</td><td> 6.896499</td><td> 53.59366</td><td>rfi_noise</td></tr>\n",
       "\t<tr><td> 88.72656</td><td>40.67223</td><td> 0.60086608</td><td> 1.1234917</td><td>1.178930</td><td>11.46872</td><td>14.269573</td><td>252.56731</td><td>rfi_noise</td></tr>\n",
       "</tbody>\n",
       "</table>\n"
      ],
      "text/latex": [
       "A tibble: 5 × 9\n",
       "\\begin{tabular}{lllllllll}\n",
       " mean\\_ip & std\\_ip & excess\\_kurtosis\\_ip & skewness\\_ip & mean\\_dm\\_snr & std\\_dm\\_snr & excess\\_kurtosis\\_dm\\_snr & skewness\\_dm\\_snr & target\\_class\\\\\n",
       " <dbl> & <dbl> & <dbl> & <dbl> & <dbl> & <dbl> & <dbl> & <dbl> & <fct>\\\\\n",
       "\\hline\n",
       "\t 140.56250 & 55.68378 & -0.23457141 & -0.6996484 & 3.199833 & 19.11043 &  7.975532 &  74.24222 & rfi\\_noise\\\\\n",
       "\t 102.50781 & 58.88243 &  0.46531815 & -0.5150879 & 1.677258 & 14.86015 & 10.576487 & 127.39358 & rfi\\_noise\\\\\n",
       "\t 103.01562 & 39.34165 &  0.32332837 &  1.0511644 & 3.121237 & 21.74467 &  7.735822 &  63.17191 & rfi\\_noise\\\\\n",
       "\t 136.75000 & 57.17845 & -0.06841464 & -0.6362384 & 3.642977 & 20.95928 &  6.896499 &  53.59366 & rfi\\_noise\\\\\n",
       "\t  88.72656 & 40.67223 &  0.60086608 &  1.1234917 & 1.178930 & 11.46872 & 14.269573 & 252.56731 & rfi\\_noise\\\\\n",
       "\\end{tabular}\n"
      ],
      "text/markdown": [
       "\n",
       "A tibble: 5 × 9\n",
       "\n",
       "| mean_ip &lt;dbl&gt; | std_ip &lt;dbl&gt; | excess_kurtosis_ip &lt;dbl&gt; | skewness_ip &lt;dbl&gt; | mean_dm_snr &lt;dbl&gt; | std_dm_snr &lt;dbl&gt; | excess_kurtosis_dm_snr &lt;dbl&gt; | skewness_dm_snr &lt;dbl&gt; | target_class &lt;fct&gt; |\n",
       "|---|---|---|---|---|---|---|---|---|\n",
       "| 140.56250 | 55.68378 | -0.23457141 | -0.6996484 | 3.199833 | 19.11043 |  7.975532 |  74.24222 | rfi_noise |\n",
       "| 102.50781 | 58.88243 |  0.46531815 | -0.5150879 | 1.677258 | 14.86015 | 10.576487 | 127.39358 | rfi_noise |\n",
       "| 103.01562 | 39.34165 |  0.32332837 |  1.0511644 | 3.121237 | 21.74467 |  7.735822 |  63.17191 | rfi_noise |\n",
       "| 136.75000 | 57.17845 | -0.06841464 | -0.6362384 | 3.642977 | 20.95928 |  6.896499 |  53.59366 | rfi_noise |\n",
       "|  88.72656 | 40.67223 |  0.60086608 |  1.1234917 | 1.178930 | 11.46872 | 14.269573 | 252.56731 | rfi_noise |\n",
       "\n"
      ],
      "text/plain": [
       "  mean_ip   std_ip   excess_kurtosis_ip skewness_ip mean_dm_snr std_dm_snr\n",
       "1 140.56250 55.68378 -0.23457141        -0.6996484  3.199833    19.11043  \n",
       "2 102.50781 58.88243  0.46531815        -0.5150879  1.677258    14.86015  \n",
       "3 103.01562 39.34165  0.32332837         1.0511644  3.121237    21.74467  \n",
       "4 136.75000 57.17845 -0.06841464        -0.6362384  3.642977    20.95928  \n",
       "5  88.72656 40.67223  0.60086608         1.1234917  1.178930    11.46872  \n",
       "  excess_kurtosis_dm_snr skewness_dm_snr target_class\n",
       "1  7.975532               74.24222       rfi_noise   \n",
       "2 10.576487              127.39358       rfi_noise   \n",
       "3  7.735822               63.17191       rfi_noise   \n",
       "4  6.896499               53.59366       rfi_noise   \n",
       "5 14.269573              252.56731       rfi_noise   "
      ]
     },
     "metadata": {},
     "output_type": "display_data"
    }
   ],
   "source": [
    "# Download zipped Pulsar data from PULSAR_URL\n",
    "PULSAR_URL = \"https://archive.ics.uci.edu/ml/machine-learning-databases/00372/HTRU2.zip\"\n",
    "GET(PULSAR_URL, write_disk(tf <- tempfile(fileext = \".zip\")))\n",
    "\n",
    "# Unzip the tempfile and read the csv inside it, renaming the columns as below\n",
    "# then mutate the target class to a meaningful value for a human and convert to a factor\n",
    "pulsar_data_raw <- read_csv(unz(tf, \"HTRU_2.csv\"), col_names = c(\"mean_ip\", \n",
    "                                                             \"std_ip\", \n",
    "                                                             \"excess_kurtosis_ip\", \n",
    "                                                             \"skewness_ip\", \n",
    "                                                             \"mean_dm_snr\", \n",
    "                                                             \"std_dm_snr\", \n",
    "                                                             \"excess_kurtosis_dm_snr\", \n",
    "                                                             \"skewness_dm_snr\", \n",
    "                                                             \"target_class\")) %>% \n",
    "                 mutate(target_class = as_factor(case_when(\n",
    "                                                target_class == 1 ~ \"pulsar\",\n",
    "                                                TRUE ~ \"rfi_noise\")))  \n",
    "# unlink/remove the temporary file\n",
    "unlink(tf)\n",
    "\n",
    "# preview the data\n",
    "pulsar_data_raw %>% head(5)"
   ]
  },
  {
   "cell_type": "markdown",
   "metadata": {},
   "source": [
    "### Raw data summary\n",
    "This data is already tidy.\n",
    "\n",
    "We have elected to use a high training proportion split of 80/20 train/test. This reasoning is discussed in the methods section. "
   ]
  },
  {
   "cell_type": "code",
   "execution_count": 45,
   "metadata": {},
   "outputs": [
    {
     "name": "stderr",
     "output_type": "stream",
     "text": [
      "Joining, by = c(\"mean_ip\", \"std_ip\", \"excess_kurtosis_ip\", \"skewness_ip\", \"mean_dm_snr\", \"std_dm_snr\", \"excess_kurtosis_dm_snr\", \"skewness_dm_snr\", \"target_class\", \"is_training\")\n",
      "\n"
     ]
    },
    {
     "data": {
      "text/html": [
       "<table>\n",
       "<caption>A tibble: 5 × 10</caption>\n",
       "<thead>\n",
       "\t<tr><th scope=col>mean_ip</th><th scope=col>std_ip</th><th scope=col>excess_kurtosis_ip</th><th scope=col>skewness_ip</th><th scope=col>mean_dm_snr</th><th scope=col>std_dm_snr</th><th scope=col>excess_kurtosis_dm_snr</th><th scope=col>skewness_dm_snr</th><th scope=col>target_class</th><th scope=col>is_training</th></tr>\n",
       "\t<tr><th scope=col>&lt;dbl&gt;</th><th scope=col>&lt;dbl&gt;</th><th scope=col>&lt;dbl&gt;</th><th scope=col>&lt;dbl&gt;</th><th scope=col>&lt;dbl&gt;</th><th scope=col>&lt;dbl&gt;</th><th scope=col>&lt;dbl&gt;</th><th scope=col>&lt;dbl&gt;</th><th scope=col>&lt;fct&gt;</th><th scope=col>&lt;lgl&gt;</th></tr>\n",
       "</thead>\n",
       "<tbody>\n",
       "\t<tr><td>140.56250</td><td>55.68378</td><td>-0.23457141</td><td>-0.6996484</td><td>3.199833</td><td>19.11043</td><td> 7.975532</td><td> 74.24222</td><td>rfi_noise</td><td>TRUE</td></tr>\n",
       "\t<tr><td>102.50781</td><td>58.88243</td><td> 0.46531815</td><td>-0.5150879</td><td>1.677258</td><td>14.86015</td><td>10.576487</td><td>127.39358</td><td>rfi_noise</td><td>TRUE</td></tr>\n",
       "\t<tr><td>103.01562</td><td>39.34165</td><td> 0.32332837</td><td> 1.0511644</td><td>3.121237</td><td>21.74467</td><td> 7.735822</td><td> 63.17191</td><td>rfi_noise</td><td>TRUE</td></tr>\n",
       "\t<tr><td>136.75000</td><td>57.17845</td><td>-0.06841464</td><td>-0.6362384</td><td>3.642977</td><td>20.95928</td><td> 6.896499</td><td> 53.59366</td><td>rfi_noise</td><td>TRUE</td></tr>\n",
       "\t<tr><td> 88.72656</td><td>40.67223</td><td> 0.60086608</td><td> 1.1234917</td><td>1.178930</td><td>11.46872</td><td>14.269573</td><td>252.56731</td><td>rfi_noise</td><td>TRUE</td></tr>\n",
       "</tbody>\n",
       "</table>\n"
      ],
      "text/latex": [
       "A tibble: 5 × 10\n",
       "\\begin{tabular}{llllllllll}\n",
       " mean\\_ip & std\\_ip & excess\\_kurtosis\\_ip & skewness\\_ip & mean\\_dm\\_snr & std\\_dm\\_snr & excess\\_kurtosis\\_dm\\_snr & skewness\\_dm\\_snr & target\\_class & is\\_training\\\\\n",
       " <dbl> & <dbl> & <dbl> & <dbl> & <dbl> & <dbl> & <dbl> & <dbl> & <fct> & <lgl>\\\\\n",
       "\\hline\n",
       "\t 140.56250 & 55.68378 & -0.23457141 & -0.6996484 & 3.199833 & 19.11043 &  7.975532 &  74.24222 & rfi\\_noise & TRUE\\\\\n",
       "\t 102.50781 & 58.88243 &  0.46531815 & -0.5150879 & 1.677258 & 14.86015 & 10.576487 & 127.39358 & rfi\\_noise & TRUE\\\\\n",
       "\t 103.01562 & 39.34165 &  0.32332837 &  1.0511644 & 3.121237 & 21.74467 &  7.735822 &  63.17191 & rfi\\_noise & TRUE\\\\\n",
       "\t 136.75000 & 57.17845 & -0.06841464 & -0.6362384 & 3.642977 & 20.95928 &  6.896499 &  53.59366 & rfi\\_noise & TRUE\\\\\n",
       "\t  88.72656 & 40.67223 &  0.60086608 &  1.1234917 & 1.178930 & 11.46872 & 14.269573 & 252.56731 & rfi\\_noise & TRUE\\\\\n",
       "\\end{tabular}\n"
      ],
      "text/markdown": [
       "\n",
       "A tibble: 5 × 10\n",
       "\n",
       "| mean_ip &lt;dbl&gt; | std_ip &lt;dbl&gt; | excess_kurtosis_ip &lt;dbl&gt; | skewness_ip &lt;dbl&gt; | mean_dm_snr &lt;dbl&gt; | std_dm_snr &lt;dbl&gt; | excess_kurtosis_dm_snr &lt;dbl&gt; | skewness_dm_snr &lt;dbl&gt; | target_class &lt;fct&gt; | is_training &lt;lgl&gt; |\n",
       "|---|---|---|---|---|---|---|---|---|---|\n",
       "| 140.56250 | 55.68378 | -0.23457141 | -0.6996484 | 3.199833 | 19.11043 |  7.975532 |  74.24222 | rfi_noise | TRUE |\n",
       "| 102.50781 | 58.88243 |  0.46531815 | -0.5150879 | 1.677258 | 14.86015 | 10.576487 | 127.39358 | rfi_noise | TRUE |\n",
       "| 103.01562 | 39.34165 |  0.32332837 |  1.0511644 | 3.121237 | 21.74467 |  7.735822 |  63.17191 | rfi_noise | TRUE |\n",
       "| 136.75000 | 57.17845 | -0.06841464 | -0.6362384 | 3.642977 | 20.95928 |  6.896499 |  53.59366 | rfi_noise | TRUE |\n",
       "|  88.72656 | 40.67223 |  0.60086608 |  1.1234917 | 1.178930 | 11.46872 | 14.269573 | 252.56731 | rfi_noise | TRUE |\n",
       "\n"
      ],
      "text/plain": [
       "  mean_ip   std_ip   excess_kurtosis_ip skewness_ip mean_dm_snr std_dm_snr\n",
       "1 140.56250 55.68378 -0.23457141        -0.6996484  3.199833    19.11043  \n",
       "2 102.50781 58.88243  0.46531815        -0.5150879  1.677258    14.86015  \n",
       "3 103.01562 39.34165  0.32332837         1.0511644  3.121237    21.74467  \n",
       "4 136.75000 57.17845 -0.06841464        -0.6362384  3.642977    20.95928  \n",
       "5  88.72656 40.67223  0.60086608         1.1234917  1.178930    11.46872  \n",
       "  excess_kurtosis_dm_snr skewness_dm_snr target_class is_training\n",
       "1  7.975532               74.24222       rfi_noise    TRUE       \n",
       "2 10.576487              127.39358       rfi_noise    TRUE       \n",
       "3  7.735822               63.17191       rfi_noise    TRUE       \n",
       "4  6.896499               53.59366       rfi_noise    TRUE       \n",
       "5 14.269573              252.56731       rfi_noise    TRUE       "
      ]
     },
     "metadata": {},
     "output_type": "display_data"
    }
   ],
   "source": [
    "set.seed(1) # set the random seed so that sample_frac selects the same rows each run\n",
    "pulsar_split <- initial_split(pulsar_data_raw, prop = 0.8, strata = target_class)\n",
    "pulsar_train <- training(pulsar_split)\n",
    "pulsar_test <- testing(pulsar_split)\n",
    "\n",
    "pulsar_data_split_label <- full_join(pulsar_train %>% mutate(is_training = TRUE), \n",
    "                                     pulsar_test %>% mutate(is_training = FALSE)\n",
    "                                    )\n",
    "pulsar_data_split_label %>% head(5)"
   ]
  },
  {
   "cell_type": "code",
   "execution_count": 46,
   "metadata": {},
   "outputs": [
    {
     "data": {
      "image/png": "[encoded data removed]",
      "text/plain": [
       "plot without title"
      ]
     },
     "metadata": {
      "image/png": {
       "height": 360,
       "width": 720
      }
     },
     "output_type": "display_data"
    }
   ],
   "source": [
    "options(repr.plot.width = 12, repr.plot.height = 6)\n",
    "training_bar_plot <- pulsar_data_split_label %>% \n",
    "                        ggplot(aes(x = target_class, fill = target_class)) + \n",
    "                            geom_bar() +\n",
    "                            labs(x = \"Target Classification\", \n",
    "                                 y = \"Count\",\n",
    "                                 fill = \"Target Classification\") +\n",
    "                            geom_text(stat='count', aes(label=..count..), vjust = -0.5, size=5) +\n",
    "                            ggtitle(\"Test/Training Split Counts\") +\n",
    "                            theme(text = element_text(size=20),\n",
    "                                  plot.title = element_text(hjust = 0.5)) +\n",
    "                        facet_wrap(~ is_training,\n",
    "                                   labeller = labeller(is_training = c(\"TRUE\" = \"Training\", \"FALSE\" = \"Testing\")))\n",
    "training_bar_plot"
   ]
  },
  {
   "cell_type": "markdown",
   "metadata": {},
   "source": [
    "#### Summary stats of the unscaled pulsar data\n",
    "The following table summarizes the max, min, mean, variance, standard deviation, and number of NaNs for each variable for the unscaled pulsar data."
   ]
  },
  {
   "cell_type": "code",
   "execution_count": 47,
   "metadata": {},
   "outputs": [
    {
     "name": "stdout",
     "output_type": "stream",
     "text": [
      "[1] \"Unscaled Training Data Statistics Summary\"\n"
     ]
    },
    {
     "data": {
      "text/html": [
       "<table>\n",
       "<caption>A tibble: 6 × 9</caption>\n",
       "<thead>\n",
       "\t<tr><th scope=col>stat_type</th><th scope=col>mean_ip</th><th scope=col>std_ip</th><th scope=col>excess_kurtosis_ip</th><th scope=col>skewness_ip</th><th scope=col>mean_dm_snr</th><th scope=col>std_dm_snr</th><th scope=col>excess_kurtosis_dm_snr</th><th scope=col>skewness_dm_snr</th></tr>\n",
       "\t<tr><th scope=col>&lt;fct&gt;</th><th scope=col>&lt;dbl&gt;</th><th scope=col>&lt;dbl&gt;</th><th scope=col>&lt;dbl&gt;</th><th scope=col>&lt;dbl&gt;</th><th scope=col>&lt;dbl&gt;</th><th scope=col>&lt;dbl&gt;</th><th scope=col>&lt;dbl&gt;</th><th scope=col>&lt;dbl&gt;</th></tr>\n",
       "</thead>\n",
       "<tbody>\n",
       "\t<tr><td>min      </td><td>  6.179688</td><td>24.79161</td><td>-1.8760112</td><td>-1.781888</td><td>  0.2132107</td><td>  7.370432</td><td>-3.139270</td><td>   -1.976976</td></tr>\n",
       "\t<tr><td>max      </td><td>192.617188</td><td>98.77891</td><td> 8.0695220</td><td>68.101622</td><td>223.3921405</td><td>110.642211</td><td>34.539844</td><td> 1191.000837</td></tr>\n",
       "\t<tr><td>mean     </td><td>110.972156</td><td>46.52927</td><td> 0.4820007</td><td> 1.784217</td><td> 12.6559686</td><td> 26.340176</td><td> 8.308947</td><td>  105.114844</td></tr>\n",
       "\t<tr><td>var      </td><td>662.587788</td><td>46.77671</td><td> 1.1426912</td><td>38.343692</td><td>873.1172361</td><td>378.778683</td><td>20.456181</td><td>11543.479013</td></tr>\n",
       "\t<tr><td>st_dev   </td><td> 25.740781</td><td> 6.83935</td><td> 1.0689674</td><td> 6.192228</td><td> 29.5485573</td><td> 19.462237</td><td> 4.522851</td><td>  107.440584</td></tr>\n",
       "\t<tr><td>nan_count</td><td>  0.000000</td><td> 0.00000</td><td> 0.0000000</td><td> 0.000000</td><td>  0.0000000</td><td>  0.000000</td><td> 0.000000</td><td>    0.000000</td></tr>\n",
       "</tbody>\n",
       "</table>\n"
      ],
      "text/latex": [
       "A tibble: 6 × 9\n",
       "\\begin{tabular}{lllllllll}\n",
       " stat\\_type & mean\\_ip & std\\_ip & excess\\_kurtosis\\_ip & skewness\\_ip & mean\\_dm\\_snr & std\\_dm\\_snr & excess\\_kurtosis\\_dm\\_snr & skewness\\_dm\\_snr\\\\\n",
       " <fct> & <dbl> & <dbl> & <dbl> & <dbl> & <dbl> & <dbl> & <dbl> & <dbl>\\\\\n",
       "\\hline\n",
       "\t min       &   6.179688 & 24.79161 & -1.8760112 & -1.781888 &   0.2132107 &   7.370432 & -3.139270 &    -1.976976\\\\\n",
       "\t max       & 192.617188 & 98.77891 &  8.0695220 & 68.101622 & 223.3921405 & 110.642211 & 34.539844 &  1191.000837\\\\\n",
       "\t mean      & 110.972156 & 46.52927 &  0.4820007 &  1.784217 &  12.6559686 &  26.340176 &  8.308947 &   105.114844\\\\\n",
       "\t var       & 662.587788 & 46.77671 &  1.1426912 & 38.343692 & 873.1172361 & 378.778683 & 20.456181 & 11543.479013\\\\\n",
       "\t st\\_dev    &  25.740781 &  6.83935 &  1.0689674 &  6.192228 &  29.5485573 &  19.462237 &  4.522851 &   107.440584\\\\\n",
       "\t nan\\_count &   0.000000 &  0.00000 &  0.0000000 &  0.000000 &   0.0000000 &   0.000000 &  0.000000 &     0.000000\\\\\n",
       "\\end{tabular}\n"
      ],
      "text/markdown": [
       "\n",
       "A tibble: 6 × 9\n",
       "\n",
       "| stat_type &lt;fct&gt; | mean_ip &lt;dbl&gt; | std_ip &lt;dbl&gt; | excess_kurtosis_ip &lt;dbl&gt; | skewness_ip &lt;dbl&gt; | mean_dm_snr &lt;dbl&gt; | std_dm_snr &lt;dbl&gt; | excess_kurtosis_dm_snr &lt;dbl&gt; | skewness_dm_snr &lt;dbl&gt; |\n",
       "|---|---|---|---|---|---|---|---|---|\n",
       "| min       |   6.179688 | 24.79161 | -1.8760112 | -1.781888 |   0.2132107 |   7.370432 | -3.139270 |    -1.976976 |\n",
       "| max       | 192.617188 | 98.77891 |  8.0695220 | 68.101622 | 223.3921405 | 110.642211 | 34.539844 |  1191.000837 |\n",
       "| mean      | 110.972156 | 46.52927 |  0.4820007 |  1.784217 |  12.6559686 |  26.340176 |  8.308947 |   105.114844 |\n",
       "| var       | 662.587788 | 46.77671 |  1.1426912 | 38.343692 | 873.1172361 | 378.778683 | 20.456181 | 11543.479013 |\n",
       "| st_dev    |  25.740781 |  6.83935 |  1.0689674 |  6.192228 |  29.5485573 |  19.462237 |  4.522851 |   107.440584 |\n",
       "| nan_count |   0.000000 |  0.00000 |  0.0000000 |  0.000000 |   0.0000000 |   0.000000 |  0.000000 |     0.000000 |\n",
       "\n"
      ],
      "text/plain": [
       "  stat_type mean_ip    std_ip   excess_kurtosis_ip skewness_ip mean_dm_snr\n",
       "1 min         6.179688 24.79161 -1.8760112         -1.781888     0.2132107\n",
       "2 max       192.617188 98.77891  8.0695220         68.101622   223.3921405\n",
       "3 mean      110.972156 46.52927  0.4820007          1.784217    12.6559686\n",
       "4 var       662.587788 46.77671  1.1426912         38.343692   873.1172361\n",
       "5 st_dev     25.740781  6.83935  1.0689674          6.192228    29.5485573\n",
       "6 nan_count   0.000000  0.00000  0.0000000          0.000000     0.0000000\n",
       "  std_dm_snr excess_kurtosis_dm_snr skewness_dm_snr\n",
       "1   7.370432 -3.139270                 -1.976976   \n",
       "2 110.642211 34.539844               1191.000837   \n",
       "3  26.340176  8.308947                105.114844   \n",
       "4 378.778683 20.456181              11543.479013   \n",
       "5  19.462237  4.522851                107.440584   \n",
       "6   0.000000  0.000000                  0.000000   "
      ]
     },
     "metadata": {},
     "output_type": "display_data"
    }
   ],
   "source": [
    "min_df <- pulsar_train %>% \n",
    "            select(-target_class) %>% \n",
    "            map_df(min)\n",
    "max_df <- pulsar_train %>%\n",
    "            select(-target_class) %>% \n",
    "            map_df(max)\n",
    "mean_df <- pulsar_train %>%\n",
    "            select(-target_class) %>% \n",
    "            map_df(mean)\n",
    "sd_df <- pulsar_train %>%\n",
    "            select(-target_class) %>% \n",
    "            map_df(sd)\n",
    "var_df <- pulsar_train %>%\n",
    "            select(-target_class) %>% \n",
    "            map_df(var)\n",
    "count_nan_df <- pulsar_train %>% \n",
    "                select(-target_class) %>% \n",
    "                map_df(~sum(is.na(.)))\n",
    "\n",
    "# get a vector of all the columns to join by\n",
    "join_cols = colnames(pulsar_train %>% select(-target_class))\n",
    "\n",
    "# join the stats tables together\n",
    "stats_table <- full_join(min_df, max_df, by=join_cols) %>% \n",
    "                full_join(., mean_df, by=join_cols) %>% \n",
    "                    full_join(., var_df, by=join_cols) %>% \n",
    "                        full_join(., sd_df, by=join_cols) %>%\n",
    "                            full_join(., count_nan_df, by=join_cols) %>%\n",
    "                mutate(stat_type = c(\"min\", \"max\", \"mean\", \"var\", \"st_dev\", \"nan_count\")) %>% \n",
    "                mutate(stat_type = as_factor(stat_type)) %>% \n",
    "                relocate(stat_type)\n",
    "\n",
    "print(\"Unscaled Training Data Statistics Summary\")\n",
    "stats_table"
   ]
  },
  {
   "cell_type": "markdown",
   "metadata": {},
   "source": [
    "#### Processing Recipe (used in scaled pair plots)"
   ]
  },
  {
   "cell_type": "code",
   "execution_count": 48,
   "metadata": {},
   "outputs": [
    {
     "data": {
      "text/html": [
       "<table>\n",
       "<caption>A tibble: 5 × 6</caption>\n",
       "<thead>\n",
       "\t<tr><th scope=col>mean_ip</th><th scope=col>std_ip</th><th scope=col>excess_kurtosis_ip</th><th scope=col>skewness_ip</th><th scope=col>std_dm_snr</th><th scope=col>target_class</th></tr>\n",
       "\t<tr><th scope=col>&lt;dbl&gt;</th><th scope=col>&lt;dbl&gt;</th><th scope=col>&lt;dbl&gt;</th><th scope=col>&lt;dbl&gt;</th><th scope=col>&lt;dbl&gt;</th><th scope=col>&lt;fct&gt;</th></tr>\n",
       "</thead>\n",
       "<tbody>\n",
       "\t<tr><td> 1.1495512</td><td> 1.3385054</td><td>-0.67034052</td><td>-0.4011262</td><td>-0.3714758</td><td>rfi_noise</td></tr>\n",
       "\t<tr><td>-0.3288301</td><td> 1.8061884</td><td>-0.01560625</td><td>-0.3713211</td><td>-0.5898618</td><td>rfi_noise</td></tr>\n",
       "\t<tr><td>-0.3091022</td><td>-1.0509223</td><td>-0.14843517</td><td>-0.1183827</td><td>-0.2361243</td><td>rfi_noise</td></tr>\n",
       "\t<tr><td> 1.0014399</td><td> 1.5570447</td><td>-0.51490381</td><td>-0.3908860</td><td>-0.2764788</td><td>rfi_noise</td></tr>\n",
       "\t<tr><td>-0.8642159</td><td>-0.8563751</td><td> 0.11119643</td><td>-0.1067023</td><td>-0.7641185</td><td>rfi_noise</td></tr>\n",
       "</tbody>\n",
       "</table>\n"
      ],
      "text/latex": [
       "A tibble: 5 × 6\n",
       "\\begin{tabular}{llllll}\n",
       " mean\\_ip & std\\_ip & excess\\_kurtosis\\_ip & skewness\\_ip & std\\_dm\\_snr & target\\_class\\\\\n",
       " <dbl> & <dbl> & <dbl> & <dbl> & <dbl> & <fct>\\\\\n",
       "\\hline\n",
       "\t  1.1495512 &  1.3385054 & -0.67034052 & -0.4011262 & -0.3714758 & rfi\\_noise\\\\\n",
       "\t -0.3288301 &  1.8061884 & -0.01560625 & -0.3713211 & -0.5898618 & rfi\\_noise\\\\\n",
       "\t -0.3091022 & -1.0509223 & -0.14843517 & -0.1183827 & -0.2361243 & rfi\\_noise\\\\\n",
       "\t  1.0014399 &  1.5570447 & -0.51490381 & -0.3908860 & -0.2764788 & rfi\\_noise\\\\\n",
       "\t -0.8642159 & -0.8563751 &  0.11119643 & -0.1067023 & -0.7641185 & rfi\\_noise\\\\\n",
       "\\end{tabular}\n"
      ],
      "text/markdown": [
       "\n",
       "A tibble: 5 × 6\n",
       "\n",
       "| mean_ip &lt;dbl&gt; | std_ip &lt;dbl&gt; | excess_kurtosis_ip &lt;dbl&gt; | skewness_ip &lt;dbl&gt; | std_dm_snr &lt;dbl&gt; | target_class &lt;fct&gt; |\n",
       "|---|---|---|---|---|---|\n",
       "|  1.1495512 |  1.3385054 | -0.67034052 | -0.4011262 | -0.3714758 | rfi_noise |\n",
       "| -0.3288301 |  1.8061884 | -0.01560625 | -0.3713211 | -0.5898618 | rfi_noise |\n",
       "| -0.3091022 | -1.0509223 | -0.14843517 | -0.1183827 | -0.2361243 | rfi_noise |\n",
       "|  1.0014399 |  1.5570447 | -0.51490381 | -0.3908860 | -0.2764788 | rfi_noise |\n",
       "| -0.8642159 | -0.8563751 |  0.11119643 | -0.1067023 | -0.7641185 | rfi_noise |\n",
       "\n"
      ],
      "text/plain": [
       "  mean_ip    std_ip     excess_kurtosis_ip skewness_ip std_dm_snr target_class\n",
       "1  1.1495512  1.3385054 -0.67034052        -0.4011262  -0.3714758 rfi_noise   \n",
       "2 -0.3288301  1.8061884 -0.01560625        -0.3713211  -0.5898618 rfi_noise   \n",
       "3 -0.3091022 -1.0509223 -0.14843517        -0.1183827  -0.2361243 rfi_noise   \n",
       "4  1.0014399  1.5570447 -0.51490381        -0.3908860  -0.2764788 rfi_noise   \n",
       "5 -0.8642159 -0.8563751  0.11119643        -0.1067023  -0.7641185 rfi_noise   "
      ]
     },
     "metadata": {},
     "output_type": "display_data"
    }
   ],
   "source": [
    "pulsar_recipe <- recipe(target_class ~ mean_ip + std_ip + excess_kurtosis_ip + skewness_ip + std_dm_snr, data = pulsar_train) %>% \n",
    "                    step_center(all_predictors()) %>% \n",
    "                    step_scale(all_predictors())\n",
    "# for visualizing excluded variables\n",
    "pulsar_recipe_all <- recipe(target_class ~ mean_ip + std_ip + excess_kurtosis_ip + skewness_ip +\n",
    "                                           mean_dm_snr + std_dm_snr + excess_kurtosis_dm_snr + skewness_dm_snr, \n",
    "                                           data = pulsar_train) %>% \n",
    "                    step_scale(all_predictors()) %>% \n",
    "                    step_center(all_predictors())\n",
    "\n",
    "pulsar_scaled <- pulsar_recipe %>% \n",
    "                    prep() %>% \n",
    "                    bake(pulsar_train)\n",
    "# for visualizing excluded variables\n",
    "pulsar_scaled_all <- pulsar_recipe_all %>% \n",
    "                    prep() %>% \n",
    "                    bake(pulsar_train)\n",
    "\n",
    "pulsar_scaled %>%  head(5)\n"
   ]
  },
  {
   "cell_type": "markdown",
   "metadata": {},
   "source": [
    "#### Exploratory Plotting\n",
    "The pair plot below highlights the relationships and distributions of the five chosen variables which will be used as predictors of the target class."
   ]
  },
  {
   "cell_type": "code",
   "execution_count": null,
   "metadata": {},
   "outputs": [],
   "source": [
    "options(repr.plot.width = 15, repr.plot.height = 15)\n",
    "\n",
    "# subset of the data for faster plotting\n",
    "pulsar_scaled_subset <- pulsar_scaled %>% sample_frac(0.2) \n",
    "\n",
    "ggpairs(pulsar_scaled_subset,\n",
    "           mapping = aes(color=target_class, alpha = 0.3),\n",
    "           lower=list(combo=wrap(\"facethist\", binwidth=0.5)),\n",
    "           upper=list(continuous = wrap(\"cor\", size=5))) +\n",
    "        ggtitle(\"Scaled Pulsar Data Pair Plot (Select Variables)\") +\n",
    "        theme(text = element_text(size = 22),\n",
    "              plot.title = element_text(hjust = 0.5))\n",
    "        "
   ]
  },
  {
   "cell_type": "markdown",
   "metadata": {},
   "source": [
    "# Methods \n",
    "\n",
    "This is a classification problem, and we will make use of a KNN model for our predictions, tuned using the v-fold cross-validation methods we learned in worksheet 7.\n",
    "\n",
    "The HTRU2 data set has several thousand entries (17,898), and there is considerable overlap between pulsars and radio noise in many of the provided variables. 80% of our data will be reserved for training, as we believe our model will require a significant proportion of our data to distinguish between classes in these overlapping zones.\n",
    "\n",
    "We will exclude \"mean_dm_snr\", \"excess_kurtosis_dm_snr\", and \"skewness_dm_snr\" from our model as these variables do not provide good separation when plotted against the other available data. Plots of two of these exlcuded variables are below. \n",
    "\n",
    "Among other plots, we will use scatter plots colored by correct/incorrect predictions to visualize the areas where the model struggles.\n"
   ]
  },
  {
   "cell_type": "code",
   "execution_count": null,
   "metadata": {},
   "outputs": [],
   "source": [
    "# generate the pairs plot for all variables\n",
    "pairs_plot <- ggpairs(pulsar_scaled_all %>% sample_frac(0.05),\n",
    "                   legend = 1,\n",
    "                   mapping = aes(color=target_class,  alpha=0.5),\n",
    "                   lower=list(combo=wrap(\"facethist\", binwidth=0.5),\n",
    "                             discrete = \"blank\", combo=\"blank\"),\n",
    "                   upper=list(continuous = wrap(\"cor\", size=5, alignPercent=0.85))) +\n",
    "                ggtitle(\"Scaled Pulsar Data Pair Plot All: Pulsars (Blue), Radio Noise (Red)\") +\n",
    "                theme(text = element_text(size = 17),\n",
    "                      plot.title = element_text(hjust = 0.5),\n",
    "                      legend.position = \"bottom\",\n",
    "                      panel.grid.major = element_blank())\n",
    "\n",
    "skewness_dm_snr_plots <- lapply(1:pairs_plot$ncol, function(j) getPlot(pairs_plot, i = 8, j = j))\n",
    "excess_kurtosis_dm_snr_plots <- lapply(1:pairs_plot$ncol, function(j) getPlot(pairs_plot, i = 7, j = j))\n",
    "\n",
    "# set unwanted elements to NULL\n",
    "skewness_dm_snr_plots[9] <- NULL \n",
    "excess_kurtosis_dm_snr_plots[8:9] <- NULL\n",
    "\n",
    "# Plot the two unused variables excess_kurtosis_dm_snr, skewness_dm_snr\n",
    "options(repr.plot.width = 18, repr.plot.height = 3)\n",
    "ggmatrix(\n",
    "    excess_kurtosis_dm_snr_plots,\n",
    "    nrow=1,\n",
    "    ncol = pairs_plot$ncol,\n",
    "    xAxisLabels = pairs_plot$xAxisLabels[1:7],\n",
    "    yAxisLabels = pairs_plot$yAxisLabels[7],\n",
    "    title = \"Two Excluded Predictors for Our Study Showing Poor Separation Against Several Other Variables\"\n",
    ")\n",
    "options(repr.plot.width = 21, repr.plot.height = 3)\n",
    "ggmatrix(\n",
    "    skewness_dm_snr_plots,\n",
    "    nrow=1,\n",
    "    ncol = pairs_plot$ncol,\n",
    "    xAxisLabels = pairs_plot$xAxisLabels[1:8],\n",
    "    yAxisLabels = pairs_plot$yAxisLabels[8]\n",
    ")\n"
   ]
  },
  {
   "cell_type": "code",
   "execution_count": null,
   "metadata": {
    "jupyter": {
     "source_hidden": true
    }
   },
   "outputs": [],
   "source": [
    "## Fitting the model\n",
    "\n",
    "#kknn specification with euclidean distance\n",
    "knn_spec_rec <- nearest_neighbor(weight_func = \"rectangular\", neighbor = tune()) %>%\n",
    "                set_engine(\"kknn\") %>%\n",
    "                set_mode(\"classification\")\n",
    "\n",
    "# set 5 folds \n",
    "pulsar_vfold <- vfold_cv(pulsar_train, v = 5 , strata = target_class)\n",
    "\n",
    "\n",
    "# cross validation to find accuracy of different k neighbors when using specified variables as predictors\n",
    "knn_results <- workflow() %>%\n",
    "                  add_recipe(pulsar_recipe) %>%\n",
    "                  add_model(knn_spec_rec) %>%\n",
    "                  tune_grid(resamples = pulsar_vfold, grid = 100)  %>%\n",
    "                  collect_metrics()\n",
    "\n",
    "# filter out the accuracies of each neighbor\n",
    "accuracies <- knn_results %>%\n",
    "              filter(.metric %in% c(\"accuracy\"))\n",
    "\n",
    "# plot the accuracy of each k neighbors with excluded predictors\n",
    "accuracy_versus_k <- ggplot(data = accuracies, aes (x = neighbors, y = mean)) + \n",
    "                         geom_point() + \n",
    "                         geom_line() +\n",
    "                         labs(x = \"Neighbors\", y = \"Accuracy Estimate\", title = \"Accuracy VS K\") + \n",
    "                         scale_x_continuous(breaks = seq(0, 100, by = 1)) + \n",
    "                         scale_y_continuous(limits = c (0.4 , 1.0)) +\n",
    "                         theme(text = element_text (size = 20))   \n",
    "accuracy_versus_k\n",
    "\n",
    "# pull out the best k value according to highest mean\n",
    "k_best <- accuracies %>%\n",
    "          arrange(desc(mean)) %>%\n",
    "          slice(1) %>%\n",
    "          pull(neighbors)  \n",
    "k_best"
   ]
  },
  {
   "cell_type": "code",
   "execution_count": null,
   "metadata": {},
   "outputs": [],
   "source": [
    "## Fit the model witg optimal k value found above\n",
    "\n",
    "# Creating new spec based on optimal K\n",
    "k_spec <- nearest_neighbor(weight_func = \"rectangular\" , neighbor = k_best) %>%\n",
    "              set_engine(\"kknn\") %>%\n",
    "              set_mode(\"classification\")\n",
    "\n",
    "# Fit the model\n",
    "pulsar_fit <- workflow() %>%\n",
    "             add_recipe(pulsar_recipe) %>%\n",
    "             add_model(k_spec) %>%   \n",
    "             fit(data = pulsar_train)\n",
    "\n",
    "# Predict the testing data with our fitted model\n",
    "pulsar_predictions <- predict(pulsar_fit, pulsar_test) %>%\n",
    "                     bind_cols(pulsar_test)\n",
    "\n",
    "# Estimate of the truth and our predictive class\n",
    "pulsar_metrics <- pulsar_predictions %>%\n",
    "                 metrics(truth = target_class , estimate = .pred_class)\n",
    "\n",
    "# Confustion matrix of truth and our predictive class\n",
    "pulsar_conf_mat <- pulsar_predictions %>%\n",
    "                  conf_mat(truth = target_class, estimate = .pred_class)\n",
    "\n",
    " \n",
    "\n",
    "pulsar_metrics\n",
    "pulsar_conf_mat\n",
    "            "
   ]
  },
  {
   "cell_type": "code",
   "execution_count": null,
   "metadata": {},
   "outputs": [],
   "source": [
    "## Unable to push"
   ]
  },
  {
   "cell_type": "code",
   "execution_count": null,
   "metadata": {},
   "outputs": [],
   "source": [
    "## Fitting the model\n",
    "\n",
    "#kknn specification with euclidean distance\n",
    "knn_spec_rec <- nearest_neighbor(weight_func = \"manhattan\", neighbor = tune()) %>%\n",
    "                set_engine(\"kknn\") %>%\n",
    "                set_mode(\"classification\")\n",
    "\n",
    "# set 5 folds \n",
    "pulsar_vfold <- vfold_cv(pulsar_train, v = 5 , strata = target_class)\n",
    "\n",
    "\n",
    "# cross validation to find accuracy of different k neighbors when using specified variables as predictors\n",
    "knn_results <- workflow() %>%\n",
    "                  add_recipe(pulsar_recipe) %>%\n",
    "                  add_model(knn_spec_rec) %>%\n",
    "                  tune_grid(resamples = pulsar_vfold, grid = 100)  %>%\n",
    "                  collect_metrics()\n",
    "\n",
    "# filter out the accuracies of each neighbor\n",
    "accuracies <- knn_results %>%\n",
    "              filter(.metric %in% c(\"accuracy\"))\n",
    "\n",
    "# plot the accuracy of each k neighbors with excluded predictors\n",
    "accuracy_versus_k <- ggplot(data = accuracies, aes (x = neighbors, y = mean)) + \n",
    "                         geom_point() + \n",
    "                         geom_line() +\n",
    "                         labs(x = \"Neighbors\", y = \"Accuracy Estimate\", title = \"Accuracy VS K\") + \n",
    "                         scale_x_continuous(breaks = seq(0, 100, by = 1)) + \n",
    "                         scale_y_continuous(limits = c (0.4 , 1.0)) +\n",
    "                         theme(text = element_text (size = 20))   \n",
    "accuracy_versus_k\n",
    "\n",
    "# pull out the best k value according to highest mean\n",
    "k_best <- accuracies %>%\n",
    "          arrange(desc(mean)) %>%\n",
    "          slice(1) %>%\n",
    "          pull(neighbors)  \n",
    "k_best"
   ]
  },
  {
   "cell_type": "markdown",
   "metadata": {},
   "source": [
    "# Expected Outcomes and Significance\n",
    "We expect to be able to distinguish between a pulsar star and radio noise using statistical predictors.\n",
    "\n",
    "### Impact of Findings\n",
    "Pulsars allow us to study extreme states of matter, investigate beyond our solar system, and measure interstellar distances$^{[3]}$. Information gleaned from studying pulsars has broad applicability, and rapid, efficient, and accurate delineation of the pulsar star/radio noise boundary is scientifically significant.\n",
    "\n",
    "### Future Questions\n",
    "One of the most significant impacts of pulsar analysis is the study of space-time, this is because of the pulse, or blinking, that occurs with a pulsar. Through this natural clock, we can use pulsars when asking questions about distance and time between objects in space $^{[4]}$.\n"
   ]
  },
  {
   "cell_type": "markdown",
   "metadata": {},
   "source": [
    "# Citations\n",
    "$^{[1]}$Smith, F. G. (1977). Pulsars. *Cambridge Monographs on Physics*\n",
    "\n",
    "$^{[2]}$R. J. Lyon, B. W. Stappers, S. Cooper, J. M. Brooke, J. D. Knowles, *Fifty Years of Pulsar\n",
    "\t\tCandidate Selection: From simple filters to a new principled real-time classification approach\n",
    "\t\tMNRAS*, 2016.\n",
    "\n",
    "$^{[3]}$Cofield, C. (2016, April 22). *What are pulsars?* Space.com. https://www.space.com/32661-pulsars.html.*\n",
    "\n",
    "$^{[4]}$NASA. (2011, January). *Pulsars*. NASA. https://imagine.gsfc.nasa.gov/science/objects/pulsars2.html.old."
   ]
  },
  {
   "cell_type": "code",
   "execution_count": null,
   "metadata": {},
   "outputs": [],
   "source": []
  }
 ],
 "metadata": {
  "kernelspec": {
   "display_name": "R",
   "language": "R",
   "name": "ir"
  },
  "language_info": {
   "codemirror_mode": "r",
   "file_extension": ".r",
   "mimetype": "text/x-r-source",
   "name": "R",
   "pygments_lexer": "r",
   "version": "4.0.0"
  }
 },
 "nbformat": 4,
 "nbformat_minor": 4
}
